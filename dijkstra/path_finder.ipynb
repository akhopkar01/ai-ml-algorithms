{
 "cells": [
  {
   "cell_type": "code",
   "execution_count": 1,
   "metadata": {},
   "outputs": [],
   "source": [
    "import numpy as np\n",
    "import cv2\n",
    "import math\n",
    "#from queue import PriorityQueue\n",
    "import time"
   ]
  },
  {
   "cell_type": "code",
   "execution_count": 2,
   "metadata": {},
   "outputs": [],
   "source": [
    "env_map = np.zeros((100, 200))\n",
    "env_map[:, :] = 0\n",
    "\n",
    "\n",
    "matrix_dim_row = 200\n",
    "matrix_dim_col = 200\n"
   ]
  },
  {
   "cell_type": "code",
   "execution_count": 20,
   "metadata": {},
   "outputs": [],
   "source": [
    "\n",
    "class SimplePriorityQueue:\n",
    "    def __init__(self):\n",
    "        self.key_list = np.array([], dtype=object)\n",
    "        self.value_list = np.array([], dtype=object)\n",
    "    \n",
    "    def put(self, key, value = None):\n",
    "        self.key_list = np.append(self.key_list, key)\n",
    "        self.value_list = np.append(self.value_list, value)\n",
    "        \n",
    "        ind = self.key_list.argsort(kind ='heapsort')\n",
    "        self.key_list = self.key_list[ind]\n",
    "        self.value_list = self.value_list[ind]\n",
    "        \n",
    "    def get(self):\n",
    "        if len(self.key_list) != 0:\n",
    "            key = self.key_list[0]\n",
    "            value = self.value_list[0]\n",
    "            self.key_list = np.delete(self.key_list, [0])\n",
    "            self.value_list = np.delete(self.value_list, [0])\n",
    "            return key, value\n",
    "        else:\n",
    "            return None, None\n",
    "        \n",
    "    def isempty(self):\n",
    "        return len(self.key_list) == 0\n"
   ]
  },
  {
   "cell_type": "code",
   "execution_count": 17,
   "metadata": {},
   "outputs": [],
   "source": [
    "#matrix_dim_row = 10\n",
    "#matrix_dim_col = 20\n",
    "def get_next_positions(node):\n",
    "    ## add the cache logic\n",
    "    \n",
    "    ## for a 2D matrix (0,0) is there at the top left corner\n",
    "    actions = {'U': [-1, 0], 'D': [1, 0], 'L': [0, -1], 'R': [0, 1], \n",
    "               'UL': [-1, -1], 'UR': [-1, 1], 'DL': [1, -1], 'DR': [1, 1]}\n",
    "    \n",
    "    ROOT_TWO = math.sqrt(2)\n",
    "    action_cost_map = {'U': 1, 'D': 1, 'L': 1, 'R': 1, \n",
    "               'UL': ROOT_TWO, 'UR': ROOT_TWO, 'DL': ROOT_TWO, 'DR': ROOT_TWO}\n",
    "    \n",
    "    next_postions = []\n",
    "    \n",
    "    node_pos = list(node['pos'])\n",
    "    for action in actions:\n",
    "        next_pos = np.add(node_pos, actions[action])\n",
    "        if is_position_valid(next_pos):\n",
    "            node_path = node['path'].copy()\n",
    "            node_path.append(action)\n",
    "            \n",
    "            next_postions.append({\n",
    "                'pos': tuple(next_pos),\n",
    "                'path': node_path,\n",
    "                'cost': node['cost'] + action_cost_map[action]\n",
    "            })\n",
    "    return next_postions\n",
    "            \n",
    "    \n",
    "\n",
    "\n",
    "def is_position_valid(position):\n",
    "    ## rest of the constraints to be added - obstacle equations\n",
    "    constraint_predicate1 = position[1] == 80 and (position[0] in range(50, 150))\n",
    "    constraint_predicate2 = (position[1] in range(90, 120)) and (position[0] in range(40, 100))\n",
    "    return (position[0] in range(0, matrix_dim_row) and position[1] in range(0, matrix_dim_col)) and (not constraint_predicate1) and (not constraint_predicate2)"
   ]
  },
  {
   "cell_type": "code",
   "execution_count": 15,
   "metadata": {},
   "outputs": [],
   "source": [
    "def start_visualization(initial_pos, visited_nodes, path):\n",
    "    try:\n",
    "        env_map = np.zeros((matrix_dim_row, matrix_dim_col))\n",
    "        env_map[:, :] = 0\n",
    "        env_map[initial_pos] = 1\n",
    "        cv2.imshow('Map', env_map)\n",
    "        actions = {'U': [-1, 0], 'D': [1, 0], 'L': [0, -1], 'R': [0, 1], \n",
    "                   'UL': [-1, -1], 'UR': [-1, 1], 'DL': [1, -1], 'DR': [1, 1]}\n",
    "\n",
    "        initial_pos = list(initial_pos)\n",
    "\n",
    "        for node in visited_nodes:\n",
    "            env_map[node] = 1\n",
    "            cv2.imshow('Map', env_map)\n",
    "            #time.sleep(0.001)\n",
    "\n",
    "        next_pos = initial_pos\n",
    "        for action in path:\n",
    "            next_pos = np.add(next_pos, actions[action])\n",
    "            env_map[tuple(next_pos)] = 0\n",
    "            cv2.imshow('Map', env_map)\n",
    "            #time.sleep(0.01)\n",
    "\n",
    "        cv2.imshow('Map', env_map)\n",
    "    except:\n",
    "        print(-99999)\n",
    "    cv2.waitKey(0)\n",
    "    cv2.destroyAllWindows()\n"
   ]
  },
  {
   "cell_type": "code",
   "execution_count": 21,
   "metadata": {},
   "outputs": [
    {
     "name": "stdout",
     "output_type": "stream",
     "text": [
      "Found\n",
      "['R', 'R', 'R', 'R', 'R', 'R', 'R', 'R', 'R', 'R', 'R', 'R', 'R', 'R', 'R', 'R', 'R', 'R', 'R', 'R', 'R', 'R', 'R', 'R', 'R', 'R', 'R', 'R', 'R', 'R', 'R', 'UR', 'UR', 'UR', 'UR', 'UR', 'UR', 'UR', 'UR', 'UR', 'UR', 'UR', 'UR', 'UR', 'UR', 'UR', 'UR', 'UR', 'UR', 'UR', 'UR', 'UR', 'UR', 'UR', 'UR', 'UR', 'UR', 'UR', 'UR', 'UR', 'UR', 'UR', 'UR', 'UR', 'UR', 'UR', 'UR', 'UR', 'UR', 'UR', 'UR', 'UR', 'UR', 'UR', 'UR', 'UR', 'UR', 'UR', 'UR', 'UR', 'UR', 'U', 'U', 'UR', 'UR', 'UR', 'UR', 'UR', 'UR', 'UR', 'UR', 'UR', 'UR', 'UR', 'UR', 'UR', 'UR', 'UR', 'UR', 'UR', 'U', 'U', 'U', 'U', 'U', 'U', 'U', 'U', 'U', 'UR', 'UR', 'UR', 'UR', 'UR', 'UR', 'UR', 'UR', 'UR', 'UR', 'UR', 'UR', 'UR', 'UR', 'UR', 'UR', 'UR', 'UR', 'UR', 'UR', 'UR', 'UR', 'U', 'U', 'U', 'U', 'U', 'U', 'U', 'U', 'U', 'U', 'U', 'U', 'U', 'U', 'U', 'U', 'U', 'U', 'U', 'U', 'UR', 'UR', 'UR', 'UR', 'UR', 'UR', 'UR', 'UR', 'UR', 'UR', 'UR', 'UR', 'UR', 'UR', 'UR', 'UR', 'UR', 'UR', 'UR', 'UR', 'UR', 'UR', 'UR', 'UR', 'UR', 'UR', 'UR', 'UR', 'UR', 'UR', 'UR', 'UR', 'UR', 'UR', 'UR', 'UR', 'UR', 'UR', 'UR', 'UR', 'UR', 'UR', 'UR', 'UR', 'UR', 'UR', 'UR', 'UR', 'UR', 'UR', 'UR', 'UR', 'UR', 'UR', 'UR', 'UR', 'UR', 'UR', 'UR', 'UR', 'UR', 'UR', 'UR', 'UR', 'UR', 'UR', 'UR', 'UR', 'UR', 'UR', 'UR', 'UR', 'UR', 'UR', 'UR', 'UR', 'UR', 'UR', 'UR']\n"
     ]
    }
   ],
   "source": [
    "cost_matrix = np.zeros((matrix_dim_row, matrix_dim_col), dtype=object)\n",
    "cost_matrix[:, :] = math.inf\n",
    "\n",
    "node_queue = SimplePriorityQueue()\n",
    "visited_nodes = set()\n",
    "initial_pos = (matrix_dim_row-1, 0)\n",
    "target_pos = (0, matrix_dim_col-1)\n",
    "\n",
    "initial_node = {'pos': initial_pos, 'path': [], 'cost': 0}\n",
    "cost_matrix[initial_pos] = 0\n",
    "\n",
    "\n",
    "is_target_found = False\n",
    "\n",
    "# cost to reach to the node as key to sort\n",
    "node_queue.put(0, initial_node)\n",
    "\n",
    "\n",
    "#len(visited_nodes) < (matrix_dim_row*matrix_dim_col)\n",
    "\n",
    "while (not node_queue.isempty()) and not is_target_found:\n",
    "    current_node = node_queue.get()[1]\n",
    "    if current_node['pos'] == target_pos:\n",
    "        print('Found')\n",
    "        is_target_found = True\n",
    "        solution_path = current_node['path']\n",
    "    else:\n",
    "        visited_nodes.add(current_node['pos'])\n",
    "        next_positions = get_next_positions(current_node)\n",
    "        for node in next_positions:\n",
    "            if node['pos'] not in visited_nodes:\n",
    "                old_cost_to_reach_node = math.inf if cost_matrix[node['pos']] == math.inf else cost_matrix[node['pos']]['cost'] \n",
    "                new_cost_to_reach_node = node['cost']\n",
    "                if old_cost_to_reach_node > new_cost_to_reach_node:\n",
    "                    cost_matrix[node['pos']] = node\n",
    "                    node_queue.put(node['cost'], node)\n",
    "\n",
    "if is_target_found:\n",
    "    print(solution_path)\n",
    "    start_visualization(initial_pos, visited_nodes, solution_path)\n",
    "else:\n",
    "    print('not found')\n",
    "                    "
   ]
  },
  {
   "cell_type": "code",
   "execution_count": 12,
   "metadata": {},
   "outputs": [],
   "source": [
    "start_visualization(initial_pos, visited_nodes, solution_path)"
   ]
  },
  {
   "cell_type": "code",
   "execution_count": 24,
   "metadata": {},
   "outputs": [
    {
     "data": {
      "text/plain": [
       "array([2, 1, 3, 4, 0], dtype=int64)"
      ]
     },
     "execution_count": 24,
     "metadata": {},
     "output_type": "execute_result"
    }
   ],
   "source": [
    "a = np.array([9,3,2,6,7])\n",
    "\n",
    "ind = a.argsort(kind ='heapsort')\n",
    "ind"
   ]
  },
  {
   "cell_type": "code",
   "execution_count": null,
   "metadata": {},
   "outputs": [],
   "source": [
    "if __name =='__main__':\n",
    "    #R = c\n",
    "    #Solver <-- C\n",
    "    # solver.solve()"
   ]
  },
  {
   "cell_type": "code",
   "execution_count": null,
   "metadata": {},
   "outputs": [],
   "source": []
  }
 ],
 "metadata": {
  "kernelspec": {
   "display_name": "Python 3",
   "language": "python",
   "name": "python3"
  },
  "language_info": {
   "codemirror_mode": {
    "name": "ipython",
    "version": 3
   },
   "file_extension": ".py",
   "mimetype": "text/x-python",
   "name": "python",
   "nbconvert_exporter": "python",
   "pygments_lexer": "ipython3",
   "version": "3.7.4-final"
  }
 },
 "nbformat": 4,
 "nbformat_minor": 2
}